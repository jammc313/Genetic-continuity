{
 "cells": [
  {
   "cell_type": "markdown",
   "metadata": {},
   "source": [
    "## The purpose of this notebook is to test the performance of the anchor statistic in detecting deviation from population continuity. First I set up a simple demography with 2 populations in which an admixture event occurs occurs\n",
    "## There are 2 branches in the simulated demography; popA & popB diverging 4000 gens ago.\n",
    "## 4 samples are taken from popA: A1, A2, B & C at times 1000, 100, 50 & 0 respectively. \n",
    "## The admixture occurs from popB to popA at time 25. \n",
    "## 1 gen = 29 years, mu = 1.45e-8 and r=1.25e-8\n",
    "## Here I am keeping the admixture proportion at 50% but varying the population divergence time from 1000-5500 generations to see the effect  "
   ]
  },
  {
   "cell_type": "code",
   "execution_count": 15,
   "metadata": {},
   "outputs": [
    {
     "name": "stdout",
     "output_type": "stream",
     "text": [
      "scikit-allel 1.3.5\n"
     ]
    }
   ],
   "source": [
    "import msprime as msp\n",
    "import random\n",
    "import numpy as np\n",
    "import pandas as pd\n",
    "import scipy\n",
    "from scipy import stats\n",
    "import scipy.stats as st\n",
    "import math\n",
    "import matplotlib as mpl\n",
    "%matplotlib inline\n",
    "# matplotlib.use('pdf')\n",
    "import matplotlib.pyplot as plt\n",
    "import seaborn as sns\n",
    "sns.set_style('white')\n",
    "sns.set_style('ticks')\n",
    "import allel; print('scikit-allel', allel.__version__)\n",
    "from allel.stats.misc import jackknife\n",
    "import sys"
   ]
  },
  {
   "cell_type": "markdown",
   "metadata": {},
   "source": [
    "## Global togle to save / not-save figures"
   ]
  },
  {
   "cell_type": "code",
   "execution_count": 16,
   "metadata": {},
   "outputs": [],
   "source": [
    "isSaveFigures = True\n",
    "\n",
    "# adjust some font params\n",
    "plt.rcParams.update({'font.size': 14})\n",
    "plt.rc('legend',fontsize='12')"
   ]
  },
  {
   "cell_type": "code",
   "execution_count": 17,
   "metadata": {},
   "outputs": [
    {
     "data": {
      "text/plain": [
       "{'divide': 'ignore', 'over': 'warn', 'under': 'ignore', 'invalid': 'ignore'}"
      ]
     },
     "execution_count": 17,
     "metadata": {},
     "output_type": "execute_result"
    }
   ],
   "source": [
    "# Ignore some warnings when calculating summary stats with missing data, typically on Tajima's D and Fst (division by zero, etc) \n",
    "np.seterr(invalid='ignore',divide='ignore')"
   ]
  },
  {
   "cell_type": "markdown",
   "metadata": {},
   "source": [
    "## Functions to downsample perfect simulated data and introduce aDNA damages"
   ]
  },
  {
   "cell_type": "code",
   "execution_count": 18,
   "metadata": {},
   "outputs": [],
   "source": [
    "### MAKE EMPTY GENOTYPE ARRAY ····························································\n",
    "def empty_genotype_array(n_loci, n_samples, ploidy=2, allele=-1):\n",
    "    \"\"\"\n",
    "    Creates a genotype array with all values as missing (-1) for a given number\n",
    "    of samples, loci and ploidy\n",
    "\n",
    "    :return: empty_ga\n",
    "    \"\"\"\n",
    "    empty_ga = allel.GenotypeArray(np.full((n_loci, n_samples, ploidy), allele, dtype='i1'), dtype='i1')\n",
    "    return empty_ga\n",
    "  \n",
    "def test_empty_genotype_array():\n",
    "    test_ga = empty_genotype_array(3, 4, ploidy=2, allele=-1)\n",
    "    assert type(test_ga) is allel.model.ndarray.GenotypeArray\n",
    "    assert len(test_ga) == 3\n",
    "    assert all(test_ga[0,0] == [-1,-1])\n",
    "    assert all(test_ga[2,3] == [-1,-1])\n",
    "    test_ga = empty_genotype_array(3, 4, ploidy=2, allele=0)\n",
    "    assert all(test_ga[1,1] == [0,0])\n",
    "### end MAKE EMPTY GENOTYPE ARRAY ····························································\n",
    "\n",
    "\n",
    "### SNP CALLING FROM SIMULATED READS (WITH SEQUENCING ERROR)  ····························\n",
    "def snp_calling(true_genotype, f_num_reads, error_rate=0.005, reads_th=8, score_th=5, ratio_th=10, damage=False, transversion=True):\n",
    "    \"\"\"\n",
    "    snp_calling function takes perfect simulated data from one locus of one \n",
    "    diploid individual and adds missing data and error according to the number \n",
    "    of reads of the site, error rate of the sequencing technology and, for \n",
    "    ancient DNA not sequenced from damage repair (dr) libraries, creates \n",
    "    missing data for transition SNPs (since they cannot be distinguished from\n",
    "    aDNA damage)\n",
    "\n",
    "    :param true_genotype:\n",
    "    :param f_num_reads:\n",
    "    :param error_rate:\n",
    "    :param reads_th:\n",
    "    :param score_th:\n",
    "    :param ratio_th:\n",
    "    :param dr:\n",
    "    :param transversion:\n",
    "    :return:\n",
    "    \"\"\"\n",
    "    genotype_call = [-1, -1]\n",
    "    if damage is True and transversion is False:\n",
    "        genotype_call = [-1, -1]\n",
    "    elif f_num_reads >= reads_th:\n",
    "        derived_count = sum(true_genotype)\n",
    "        p_derived = derived_count / 2. * (1 - error_rate) + (1 - derived_count / 2.) * error_rate\n",
    "        derived_reads = st.binom.rvs(f_num_reads, p_derived)\n",
    "        ancestral_reads = f_num_reads - derived_reads\n",
    "        if f_num_reads >= (score_th*2):\n",
    "            if derived_reads == 0:\n",
    "                genotype_call = [0, 0]\n",
    "            elif ancestral_reads == 0:\n",
    "                genotype_call = [1, 1]\n",
    "            else:\n",
    "                if (derived_reads >= score_th) & (ancestral_reads < score_th):\n",
    "                    genotype_call = [1, 1]\n",
    "                elif (derived_reads < score_th) & (ancestral_reads >= score_th):\n",
    "                    genotype_call = [0, 0]\n",
    "                elif (derived_reads >= score_th) & (ancestral_reads >= score_th):\n",
    "                    ratio_of_scores = derived_reads / ancestral_reads\n",
    "                    if (ratio_of_scores >= 1 / ratio_th) & (ratio_of_scores <= ratio_th):\n",
    "                        if (derived_count == 1):\n",
    "                            genotype_call = true_genotype\n",
    "                        elif (st.binom.rvs(1, 0.5) == 1):\n",
    "                            genotype_call = [0, 1]\n",
    "                        else:\n",
    "                            genotype_call = [1, 0]\n",
    "                    elif derived_reads > ancestral_reads:\n",
    "                        genotype_call = [1, 1]\n",
    "                    else:\n",
    "                        genotype_call = [0, 0]\n",
    "    else:\n",
    "        genotype_call = [-1, -1]\n",
    "    #print(genotype_call)\n",
    "    return genotype_call\n",
    "\n",
    "def test_snp_calling():\n",
    "    np.random.seed(1234)\n",
    "    genotype_call = snp_calling( [0, 1], 100, error_rate=0.005, reads_th=1,\n",
    "                  score_th=10, ratio_th=3, damage=False, transversion=True)\n",
    "    assert genotype_call == [0,1]\n",
    "    genotype_call = snp_calling( [0, 1], 1, error_rate=0.005, reads_th=10,\n",
    "                  score_th=10, ratio_th=3, damage=False, transversion=True)\n",
    "    assert genotype_call == [-1,-1]\n",
    "### end SNP CALLING FROM SIMULATED READS (WITH SEQUENCING ERROR)  ····························\n",
    "\n",
    "### SIMULATE SEQUENCING  ····························\n",
    "def sequencing(ts, ssize, ttr, seq_error, damage, cov):\n",
    "    if len(cov) != ssize:\n",
    "        msg = \"Number of coverage values (length=\" + str(len(cov)) + \\\n",
    "              \") and number of samples (ssize=\" + str(ssize) + \\\n",
    "              \") do not match\"\n",
    "        raise ValueError(msg)\n",
    "\n",
    "    geno_data = empty_genotype_array(n_loci=ts.num_sites,\n",
    "                                   n_samples=ssize,\n",
    "                                   ploidy=2)\n",
    "    positions = []\n",
    "    locus = 0\n",
    "    for variant in ts.variants():\n",
    "        positions.append(round(variant.position))\n",
    "        #print(variant.position)\n",
    "        var_genotypes = variant.genotypes\n",
    "        #print(\"variant genotypes = \", var_genotypes)\n",
    "        num_reads = np.random.poisson(lam=cov, size=ssize)\n",
    "        #print(\"num_reads = \", num_reads)\n",
    "        transversion_snp = True\n",
    "        if np.random.random() < ttr / (ttr + 1):\n",
    "            transversion_snp = False\n",
    "        for i in range(0, 2 * ssize, 2):\n",
    "            if len(variant.alleles)==2:\n",
    "                gt_call = snp_calling(true_genotype = var_genotypes[i:(i + 2)],\n",
    "                                      f_num_reads = num_reads[int(i / 2)],\n",
    "                                      damage = damage[int(i / 2)],\n",
    "                                      transversion = transversion_snp)\n",
    "            else:\n",
    "                gt_call = [-1, -1] # this removes all SNP with more than two alleles\n",
    "            geno_data[locus, int(i / 2)] = gt_call\n",
    "        locus = locus + 1\n",
    "        #print(locus)\n",
    "    return geno_data, positions"
   ]
  },
  {
   "cell_type": "code",
   "execution_count": 19,
   "metadata": {},
   "outputs": [],
   "source": [
    "def get_anc_subset(full_arr, anchor):\n",
    "    \"\"\" \n",
    "    Function to get subset of sites that are heterozygous in a given anchor individual\n",
    "    \"\"\"\n",
    "    mask = full_arr[:,anchor-1,:].sum(axis=1)==1\n",
    "    masked_arr = full_arr[mask,:,:]\n",
    "    return masked_arr\n",
    "\n",
    "def get_pseudo_prop(x_arr):  # function to get proportions of a pseudo-haploidized 1D array\n",
    "    \"\"\"\n",
    "    Function to make a random choice for each site\n",
    "    \"\"\"\n",
    "    pseudohap_arr = np.array([random.choice(i) for i in x_arr.tolist()])    \n",
    "    out_val = np.true_divide(pseudohap_arr.sum(axis=0), pseudohap_arr.shape[0]).astype(float)\n",
    "    return out_val\n",
    "\n",
    "def get_prop_der(ind_arr, blen):\n",
    "    \"\"\"\n",
    "    Function to return mean & SE for proportion derived of each individual \n",
    "    \"\"\"\n",
    "    # compute the prop der within each block and return mean across all (same as overall derived)\n",
    "    b_prop_der = allel.moving_statistic(ind_arr, get_pseudo_prop, size=blen)\n",
    "    m, se, vj = jackknife(b_prop_der, statistic=np.mean)\n",
    "    return m, se\n",
    "\n",
    "def get_prop_win(ind_arr, blen):\n",
    "    \"\"\"\n",
    "    Get proportion derived for windows of given length.\n",
    "    Returns array, rather than mean of the array, as \"get_prop_der\"\n",
    "    \"\"\"\n",
    "    b_prop_der = allel.moving_statistic(ind_arr, get_pseudo_prop, size=blen)\n",
    "    return b_prop_der\n",
    "\n",
    "def get_gammas(x_arr):   # input is 3D array of shape(n-1,4,2)\n",
    "    \"\"\"\n",
    "    Function to estimate proportion of admixture\n",
    "    \"\"\"\n",
    "    mean_prop_der = np.mean(x_arr, axis=0) # get mean prop der across all wins, returns array of shape(4=Inds,2=PropDerAnc4&3)\n",
    "    AncA1_C = mean_prop_der[0,0]\n",
    "    AncA1_B = mean_prop_der[1,0]\n",
    "    AncA2_C = mean_prop_der[0,1]\n",
    "    AncA2_B = mean_prop_der[1,1]\n",
    "    AncA2_A1 = mean_prop_der[3,1]\n",
    "    gamma = 1 - (((AncA1_B*AncA2_C) - (AncA1_C*AncA2_A1)) / ((AncA1_B*AncA2_B) - (AncA1_B*AncA2_A1)))\n",
    "    return gamma\n",
    "\n",
    "def jackknife_est(x,func):\n",
    "    \"\"\"\n",
    "    Function to get jackknife estimate of the admixture estimator, also returns variance and SEM\n",
    "    \"\"\"\n",
    "    n = len(x)\n",
    "    idx = np.arange(n)\n",
    "    j_est = np.sum(func(x[idx!=i]) for i in range(n))/float(n)\n",
    "    j_var = (n-1)/(n + 0.0) * np.sum((func(x[idx!=i]) - j_est)**2.0 for i in range(n))\n",
    "    j_SEM = math.sqrt(j_var)\n",
    "    return j_est, j_var, j_SEM"
   ]
  },
  {
   "cell_type": "markdown",
   "metadata": {},
   "source": [
    "# msprime simulations\n",
    "\n",
    "First use msprime to generate data under two simple topologies. Idea here is to demonstrate that alternative demographies can give rise to qualitatively similar patterns of genetic variation and summary statistics (PCA). \n",
    "This run, recombination rate = 1.25 e-8, mutation rate = 1.45 e-8, generation time = 29 years. 7 samples are taken from 2 populations at 2 different time points (modern and ancient)."
   ]
  },
  {
   "cell_type": "code",
   "execution_count": 20,
   "metadata": {},
   "outputs": [],
   "source": [
    "# fixed parameters\n",
    "gen_time = 29\n",
    "L = 2000000\n",
    "mu = 1.45e-8 # equates to 0.5e-9/yr\n",
    "r = 1.25e-8"
   ]
  },
  {
   "cell_type": "code",
   "execution_count": 21,
   "metadata": {},
   "outputs": [],
   "source": [
    "# create empty array to take gamma values and standard errors\n",
    "gamma_arr = np.zeros(30).reshape(10,3).astype(float)"
   ]
  },
  {
   "cell_type": "markdown",
   "metadata": {},
   "source": [
    "# Demographic model"
   ]
  },
  {
   "cell_type": "markdown",
   "metadata": {},
   "source": [
    "### Fixed splits, admixture dates and fractions:"
   ]
  },
  {
   "cell_type": "code",
   "execution_count": 22,
   "metadata": {},
   "outputs": [],
   "source": [
    "# Population sizes\n",
    "popA_N = 10000  \n",
    "popB_N = 10000\n",
    "popAB_N = 10000\n",
    "admix_t, admix_frac = 25, 0.5"
   ]
  },
  {
   "cell_type": "code",
   "execution_count": 23,
   "metadata": {},
   "outputs": [],
   "source": [
    "numRuns=1000 # the number of independent simulations to run for a given demography"
   ]
  },
  {
   "cell_type": "code",
   "execution_count": 24,
   "metadata": {},
   "outputs": [
    {
     "name": "stderr",
     "output_type": "stream",
     "text": [
      "/tmp/ipykernel_16749/475625440.py:53: DeprecationWarning: Calling np.sum(generator) is deprecated, and in the future will give a different result. Use np.sum(np.fromiter(generator)) or the python sum builtin instead.\n",
      "  j_est = np.sum(func(x[idx!=i]) for i in range(n))/float(n)\n",
      "/tmp/ipykernel_16749/475625440.py:54: DeprecationWarning: Calling np.sum(generator) is deprecated, and in the future will give a different result. Use np.sum(np.fromiter(generator)) or the python sum builtin instead.\n",
      "  j_var = (n-1)/(n + 0.0) * np.sum((func(x[idx!=i]) - j_est)**2.0 for i in range(n))\n"
     ]
    }
   ],
   "source": [
    "for idx,t_AB_split in enumerate(range(1000,6000,500)): # iterate simulations across range of population divergence times\n",
    "    # build msprime demographies\n",
    "    demography = msp.Demography()\n",
    "    demography.add_population(name=\"PA\", initial_size=popA_N, default_sampling_time=0)\n",
    "    demography.add_population(name=\"PB\", initial_size=popB_N, default_sampling_time=0)\n",
    "    demography.add_population(name=\"PAB\", initial_size=popB_N, default_sampling_time=t_AB_split)\n",
    "    demography.add_population_split(time=t_AB_split, derived=['PA','PB'], ancestral='PAB') # add the fixed split to msprime's demography\n",
    "    demography.add_mass_migration(time=admix_t, source='PA', dest='PB', proportion=admix_frac) # equivalent to PB to PA forwards in time\n",
    "    demography.sort_events()\n",
    "    \n",
    "    # choose samples to take from demographic objects\n",
    "    def set_up_samples(tS):\n",
    "        samples = [msp.SampleSet(num_samples=1, population=0, time=tS[0], ploidy=2)] # Sample C\n",
    "        samples.extend([msp.SampleSet(num_samples=1, population=0, time=tS[1], ploidy=2)]) # Sample B\n",
    "        samples.extend([msp.SampleSet(num_samples=1, population=0, time=tS[2], ploidy=2)]) # Sample A2\n",
    "        samples.extend([msp.SampleSet(num_samples=1, population=0, time=tS[3], ploidy=2)]) # Sample A1\n",
    "        return samples\n",
    "    tS=[0,50,100,999] # specify sampling times\n",
    "    Samples = set_up_samples(tS)   \n",
    "    \n",
    "    for aRun in range(numRuns):\n",
    "        ts = msp.sim_ancestry(\n",
    "            samples = Samples,\n",
    "            demography=demography,\n",
    "            recombination_rate=r,\n",
    "            sequence_length=L,\n",
    "            model=[msp.DiscreteTimeWrightFisher(duration=50), msp.StandardCoalescent()],\n",
    "            random_seed=None\n",
    "        )\n",
    "        # This generates an ancestral history for samples. If we want genome sequence we must also simulate mutations on these trees. \n",
    "        # Note I am running Discrete Time Wright Fisher model for time=50. This is to better model long-range LD when simulating long sequences. This\n",
    "        # is only an issue in recent past, and then I revert to standard coalescent model. Slows simulations, but may remove spurious high LD.\n",
    "        # Given an input tree sequence, superimpose mutations on that ancestral history.  \n",
    "        mut_treesq = msp.sim_mutations(ts, rate=mu, random_seed=None)\n",
    "    \n",
    "        # pipe perfect simulation results through functions to add errors and make comparable to empirical data\n",
    "        chrono_order_is_damaged = np.repeat(np.array([True,False], dtype=bool), [0,4])\n",
    "        covs = np.array([50.0]) # coverages of all samples (moderns from SGDP)\n",
    "        repeats = np.array([4])\n",
    "        chrono_order_coverage = np.repeat(covs, repeats)\n",
    "\n",
    "        geno_data, positions = sequencing(ts = mut_treesq,\n",
    "                                          ssize = 4,\n",
    "                                          ttr = 2.1,\n",
    "                                          seq_error = 0.005,\n",
    "                                          damage = chrono_order_is_damaged,\n",
    "                                          cov = chrono_order_coverage)\n",
    "\n",
    "        # Export the genotype data to allel. Unfortunately there's a slight mismatch in the terminology here where genotypes and haplotypes mean different things in the two libraries.\n",
    "        if aRun == 0:\n",
    "            geno_arr = geno_data\n",
    "            pos_list = positions\n",
    "        else:\n",
    "            geno_arr = np.concatenate((geno_arr,geno_data),axis=0) # stack arrays row-wise\n",
    "            pos_list.extend(x+(aRun*L) for x in positions) # keep adding current length of simulated sequence to positions\n",
    "    geno_arr = allel.GenotypeArray(geno_arr, dtype='i1')\n",
    "        \n",
    "    # get the subset array of het sites for a specified anchor \n",
    "    anchorA1_mat1 = get_anc_subset(geno_arr,4) # the last sample is the oldest\n",
    "    anchorA2_mat1 = get_anc_subset(geno_arr,3)  \n",
    "\n",
    "    # get proportion derived in all individuals for each anchor\n",
    "    propder_anchorA1_mat1 = np.array([(get_prop_der(x, 1000)) for x in anchorA1_mat1.transpose(1, 0, 2)])\n",
    "    propder_anchorA2_mat1 = np.array([(get_prop_der(x, 1000)) for x in anchorA2_mat1.transpose(1, 0, 2)])\n",
    "            \n",
    "    # save resulting proportions derived to file\n",
    "    divT = int(t_AB_split)\n",
    "    np.savetxt('Prop_Der_AnchorA1_divT_{}.txt'.format(divT), propder_anchorA1_mat1)\n",
    "    np.savetxt('Prop_Der_AnchorA2_divT_{}.txt'.format(divT), propder_anchorA2_mat1)\n",
    "        \n",
    "    # Get arrays of proportions derived across 10000 SNP windows with Anchor=Ind6 and Anchor=Ind4\n",
    "    windowed_propder_anchorA1 = np.array([(get_prop_win(x, 1000)) for x in anchorA1_mat1.transpose(1, 0, 2)])   \n",
    "    windowed_propder_anchorA2 = np.array([(get_prop_win(x, 1000)) for x in anchorA2_mat1.transpose(1, 0, 2)])\n",
    "    windowed_propder_anchorA1_trans = np.transpose(windowed_propder_anchorA1, (1,0)).reshape(windowed_propder_anchorA1.shape[1],4,1)    # transpose to (nwindows,4) and reshape to (#wins,4,1)\n",
    "    windowed_propder_anchorA2_trans = np.transpose(windowed_propder_anchorA2, (1,0)).reshape(windowed_propder_anchorA2.shape[1],4,1) \n",
    "\n",
    "    # combine into single 3D array of length n (= len(min) of both arrays). Final dimension contains 2 columns for propderA1 & propderA2\n",
    "    if len(windowed_propder_anchorA1_trans) == len(windowed_propder_anchorA2_trans):\n",
    "        combined_arr = np.append(windowed_propder_anchorA1_trans, windowed_propder_anchorA2_trans, axis=2)\n",
    "    elif len(windowed_propder_anchorA1_trans) > len(windowed_propder_anchorA2_trans):\n",
    "        combined_arr = np.append(windowed_propder_anchorA1_trans[0:len(windowed_propder_anchorA2_trans),:,:], windowed_propder_anchorA2_trans, axis=2)\n",
    "    else:\n",
    "        combined_arr = np.append(windowed_propder_anchorA1_trans, windowed_propder_anchorA2_trans[0:len(windowed_propder_anchorA1_trans),:,:], axis=2)\n",
    "    \n",
    "    gamma_arr[idx,:] = jackknife_est(combined_arr, get_gammas) # get jackknifed estimate of admixture. Add to this admixture fraction      "
   ]
  },
  {
   "cell_type": "code",
   "execution_count": 25,
   "metadata": {},
   "outputs": [],
   "source": [
    "np.savetxt('gamma_estimates_divT.txt', gamma_arr) # save down admixture estimate array"
   ]
  },
  {
   "cell_type": "code",
   "execution_count": 32,
   "metadata": {},
   "outputs": [
    {
     "data": {
      "image/png": "[encoded data removed]",
      "text/plain": [
       "<Figure size 1000x500 with 1 Axes>"
      ]
     },
     "metadata": {},
     "output_type": "display_data"
    }
   ],
   "source": [
    "# plot gamma array\n",
    "def plot_gammas(y_array, samples, title=None):\n",
    "    x = samples\n",
    "    y = y_array[:,0]\n",
    "    sterr = 1.96*y_array[:,2]\n",
    "    #rho = st.pearsonr(y,x)[0]\n",
    "    fig, ax = plt.subplots(figsize=(10, 5))\n",
    "    sns.despine(ax=ax, offset=10)\n",
    "    ax.errorbar(x, y, yerr=sterr, marker='o', linestyle = 'None', label=\"Estimated admixture proportion\")\n",
    "    ax.axhline(y=0.5, color='r', linestyle='--', label=\"True admixture proportion\")\n",
    "    #ax.plot([], [], ' ', label=\"Correlation coefficient = {}\".format(np.round(rho,2)))\n",
    "    ax.set_xlabel('Population divergence time (generations)')\n",
    "    ax.set_ylabel('Estimated admixture proportion')\n",
    "    ax.set(xlim=(900, 6000))\n",
    "    ax.set(ylim=(0, 1.0))\n",
    "    ax.legend(loc=4)\n",
    "    if title:\n",
    "        ax.set_title(title, loc='left', fontsize=20)\n",
    "    for item in ([ax.xaxis.label, ax.yaxis.label]):\n",
    "        item.set_fontsize(14)   \n",
    "    for item in (ax.get_xticklabels() + ax.get_yticklabels()):\n",
    "        item.set_fontsize(12)  \n",
    "    fig.tight_layout()    \n",
    "\n",
    "Samples = np.arange(1000,6000,500)\n",
    "plot_gammas(gamma_arr, Samples)\n",
    "if isSaveFigures:\n",
    "    plt.savefig('Figures/Admix_estimates_divT.pdf', dpi=300, bbox_inches='tight')"
   ]
  },
  {
   "cell_type": "code",
   "execution_count": 27,
   "metadata": {},
   "outputs": [],
   "source": [
    "# For scikit allel reference: Miles A, Harding N (2017) scikit-allel.  https://doi.org/10.5281/zenodo.822784"
   ]
  }
 ],
 "metadata": {
  "kernelspec": {
   "display_name": "Python 3 (ipykernel)",
   "language": "python",
   "name": "python3"
  },
  "language_info": {
   "codemirror_mode": {
    "name": "ipython",
    "version": 3
   },
   "file_extension": ".py",
   "mimetype": "text/x-python",
   "name": "python",
   "nbconvert_exporter": "python",
   "pygments_lexer": "ipython3",
   "version": "3.12.1"
  }
 },
 "nbformat": 4,
 "nbformat_minor": 4
}
