{
 "cells": [
  {
   "cell_type": "markdown",
   "metadata": {},
   "source": [
    "## The purpose of this notebook is to test the performance of the anchor statistic in detecting deviation from population continuity. We also perform some tests of the sensitivity of this statistic to various forms of possible bias. We accomplish this by:\n",
    "\n",
    "### 1) Simulating data under two demographic models, one with strong private drift in one branch, and another with constant population sizes but pulses of admixture from an unsampled source population.\n",
    "\n",
    "### 2) Compute genetic drift through time in both scenarios.\n",
    "\n",
    "### 3) Calculate the anchor statistic: using the oldest sampled individual as the anchor and conditioning on heterozygous sites in that individual, count the proportion of derived alleles at those sites in all other individuals. Visualize the change in the anchor statistic through time. \n",
    "\n",
    "### 4) Since inferences are based on proportions of mismatches (lack of derived alleles at sites that are heterozygous in the anchor), false negatives have the potential to bias this statistic. This is generally the case for any statistic measuring genetic distance - upwards bias can result from inaccurate allele frequency counts and missing data characteristic of samples with low coverages. A few scenarios to consider:\n",
    "####    - miscalling of heterozygote sites in the anchor individual. If genuine heterozygote sites are miscalled as homozygotes, the result will be that these sites are not included in downstream analyses. This error type primarily affects the statistical power of the approach. How sensitive is the method to the number of heterozygous sites used? To address this, we downsample the number of anchor heterozygote sites used for inference, and study the impact on the anchor statistic.\n",
    "####   - if on the other hand genuine homozygote sites in the anchor are miscalled as heterozygotes (false positives), these sites will be assessed in test individuals. This type of genotyping error at a particular site is not expected to be correlated across individuals. With real data, we set data quality thresholds for the calling of heterozygous sites in the anchor individual, and then randomly choose a single allele at each of those sites in a test individual. This is a common approach to dealing with the problems of low coverage and sequencing error in ancient data. Here we employ a similar approach, simulating a high sequencing error rate, and assessing the impact on estimation of the anchor statistic.\n",
    "####    - if the test individuals have low coverage and genuine derived alleles are not detected at anchor sites. We only consider a site informative if it has a minimum coverage of 4 reads, and we randomly select a single read at that site. "
   ]
  },
  {
   "cell_type": "code",
   "execution_count": 1,
   "metadata": {},
   "outputs": [
    {
     "name": "stdout",
     "output_type": "stream",
     "text": [
      "scikit-allel 1.3.8\n"
     ]
    }
   ],
   "source": [
    "import msprime as msp\n",
    "import random\n",
    "import numpy as np\n",
    "import pandas as pd\n",
    "import scipy\n",
    "from scipy import stats\n",
    "import math\n",
    "from itertools import combinations, permutations\n",
    "import matplotlib as mpl\n",
    "%matplotlib inline\n",
    "# matplotlib.use('pdf')\n",
    "import matplotlib.pyplot as plt\n",
    "import seaborn as sns\n",
    "sns.set_style('white')\n",
    "sns.set_style('ticks')\n",
    "import allel; print('scikit-allel', allel.__version__)\n",
    "from allel.stats.misc import jackknife\n",
    "import sys\n",
    "from scipy.spatial import distance\n",
    "from matplotlib import gridspec\n",
    "import scipy.stats as st\n",
    "import matplotlib.lines as mlines"
   ]
  },
  {
   "cell_type": "markdown",
   "metadata": {},
   "source": [
    "## Global togle to save / not-save figures"
   ]
  },
  {
   "cell_type": "code",
   "execution_count": 2,
   "metadata": {},
   "outputs": [],
   "source": [
    "isSaveFigures = True\n",
    "\n",
    "# adjust some font params\n",
    "plt.rcParams.update({'font.size': 14})\n",
    "plt.rc('legend',fontsize='12')"
   ]
  },
  {
   "cell_type": "markdown",
   "metadata": {},
   "source": [
    "# Functions to downsample perfect simulated data and introduce aDNA damages"
   ]
  },
  {
   "cell_type": "code",
   "execution_count": 3,
   "metadata": {},
   "outputs": [],
   "source": [
    "### MAKE EMPTY GENOTYPE ARRAY ····························································\n",
    "def empty_genotype_array(n_loci, n_samples, ploidy=2, allele=-1):\n",
    "    \"\"\"\n",
    "    Creates a genotype array with all values as missing (-1) for a given number\n",
    "    of samples, loci and ploidy\n",
    "\n",
    "    :return: empty_ga\n",
    "    \"\"\"\n",
    "    empty_ga = allel.GenotypeArray(np.full((n_loci, n_samples, ploidy), allele, dtype='i1'), dtype='i1')\n",
    "    return empty_ga\n",
    "  \n",
    "def test_empty_genotype_array():\n",
    "    test_ga = empty_genotype_array(3, 4, ploidy=2, allele=-1)\n",
    "    assert type(test_ga) is allel.model.ndarray.GenotypeArray\n",
    "    assert len(test_ga) == 3\n",
    "    assert all(test_ga[0,0] == [-1,-1])\n",
    "    assert all(test_ga[2,3] == [-1,-1])\n",
    "    test_ga = empty_genotype_array(3, 4, ploidy=2, allele=0)\n",
    "    assert all(test_ga[1,1] == [0,0])\n",
    "### end MAKE EMPTY GENOTYPE ARRAY ····························································\n",
    "\n",
    "\n",
    "### SNP CALLING FROM SIMULATED READS (WITH SEQUENCING ERROR)  ····························\n",
    "def snp_calling(true_genotype, f_num_reads, error_rate=0.005, reads_th=6, score_th=5, ratio_th=10, damage=False, transversion=True):\n",
    "    \"\"\"\n",
    "    snp_calling function takes perfect simulated data from one locus of one \n",
    "    diploid individual and adds missing data and error according to the number \n",
    "    of reads of the site, error rate of the sequencing technology and, for \n",
    "    ancient DNA not sequenced from damage repair (dr) libraries, creates \n",
    "    missing data for transition SNPs (since they cannot be distinguished from\n",
    "    aDNA damage)\n",
    "\n",
    "    :param true_genotype:\n",
    "    :param f_num_reads:\n",
    "    :param error_rate:\n",
    "    :param reads_th:\n",
    "    :param score_th:\n",
    "    :param ratio_th:\n",
    "    :param dr:\n",
    "    :param transversion:\n",
    "    :return:\n",
    "    \"\"\"\n",
    "    genotype_call = [-1, -1]\n",
    "    if damage is True and transversion is False:\n",
    "        genotype_call = [-1, -1]\n",
    "    elif f_num_reads >= reads_th:\n",
    "        derived_count = sum(true_genotype)\n",
    "        p_derived = derived_count / 2. * (1 - error_rate) + (1 - derived_count / 2.) * error_rate\n",
    "        derived_reads = st.binom.rvs(f_num_reads, p_derived)\n",
    "        ancestral_reads = f_num_reads - derived_reads\n",
    "        if f_num_reads >= (score_th*2):\n",
    "            if derived_reads == 0:\n",
    "                genotype_call = [0, 0]\n",
    "            elif ancestral_reads == 0:\n",
    "                genotype_call = [1, 1]\n",
    "            else:\n",
    "                if (derived_reads >= score_th) & (ancestral_reads < score_th):\n",
    "                    genotype_call = [1, 1]\n",
    "                elif (derived_reads < score_th) & (ancestral_reads >= score_th):\n",
    "                    genotype_call = [0, 0]\n",
    "                elif (derived_reads >= score_th) & (ancestral_reads >= score_th):\n",
    "                    ratio_of_scores = derived_reads / ancestral_reads\n",
    "                    if (ratio_of_scores >= 1 / ratio_th) & (ratio_of_scores <= ratio_th):\n",
    "                        if (derived_count == 1):\n",
    "                            genotype_call = true_genotype\n",
    "                        elif (st.binom.rvs(1, 0.5) == 1):\n",
    "                            genotype_call = [0, 1]\n",
    "                        else:\n",
    "                            genotype_call = [1, 0]\n",
    "                    elif derived_reads > ancestral_reads:\n",
    "                        genotype_call = [1, 1]\n",
    "                    else:\n",
    "                        genotype_call = [0, 0]\n",
    "    else:\n",
    "        genotype_call = [-1, -1]\n",
    "    #print(genotype_call)\n",
    "    return genotype_call\n",
    "\n",
    "def test_snp_calling():\n",
    "    np.random.seed(1234)\n",
    "    genotype_call = snp_calling( [0, 1], 100, error_rate=0.005, reads_th=1,\n",
    "                  score_th=10, ratio_th=3, damage=False, transversion=True)\n",
    "    assert genotype_call == [0,1]\n",
    "    genotype_call = snp_calling( [0, 1], 1, error_rate=0.005, reads_th=10,\n",
    "                  score_th=10, ratio_th=3, damage=False, transversion=True)\n",
    "    assert genotype_call == [-1,-1]\n",
    "### end SNP CALLING FROM SIMULATED READS (WITH SEQUENCING ERROR)  ····························\n",
    "\n",
    "### SIMULATE SEQUENCING  ····························\n",
    "def sequencing(ts, ssize, ttr, seq_error, damage, cov):\n",
    "    if len(cov) != ssize:\n",
    "        msg = \"Number of coverage values (length=\" + str(len(cov)) + \\\n",
    "              \") and number of samples (ssize=\" + str(ssize) + \\\n",
    "              \") do not match\"\n",
    "        raise ValueError(msg)\n",
    "\n",
    "    geno_data = empty_genotype_array(n_loci=ts.num_sites,\n",
    "                                   n_samples=ssize,\n",
    "                                   ploidy=2)\n",
    "    positions = []\n",
    "    locus = 0\n",
    "    for variant in ts.variants():\n",
    "        positions.append(round(variant.position))\n",
    "        #print(variant.position)\n",
    "        var_genotypes = variant.genotypes\n",
    "        #print(\"variant genotypes = \", var_genotypes)\n",
    "        num_reads = np.random.poisson(lam=cov, size=ssize)\n",
    "        #print(\"num_reads = \", num_reads)\n",
    "        transversion_snp = True\n",
    "        if np.random.random() < ttr / (ttr + 1):\n",
    "            transversion_snp = False\n",
    "        for i in range(0, 2 * ssize, 2):\n",
    "            if len(variant.alleles)==2:\n",
    "                gt_call = snp_calling(true_genotype = var_genotypes[i:(i + 2)],\n",
    "                                      f_num_reads = num_reads[int(i / 2)],\n",
    "                                      damage = damage[int(i / 2)],\n",
    "                                      transversion = transversion_snp)\n",
    "            else:\n",
    "                gt_call = [-1, -1] # this removes all SNP with more than two alleles\n",
    "            geno_data[locus, int(i / 2)] = gt_call\n",
    "        locus = locus + 1\n",
    "        #print(locus)\n",
    "    return geno_data, positions"
   ]
  },
  {
   "cell_type": "markdown",
   "metadata": {},
   "source": [
    "# msprime simulations\n",
    "\n",
    "First use msprime to generate data under two simple topologies. Idea here is to demonstrate that alternative demographies can give rise to qualitatively similar patterns of genetic variation and summary statistics (PCA). \n",
    "This run, recombination rate = 1.25 e-8, mutation rate = 1.45 e-8, generation time = 29 years. 7 samples are taken from 2 populations at 2 different time points (modern and ancient)."
   ]
  },
  {
   "cell_type": "code",
   "execution_count": 4,
   "metadata": {},
   "outputs": [],
   "source": [
    "# fixed parameters\n",
    "gen_time = 29\n",
    "L = 2000000\n",
    "mu = 1.45e-8 # equates to 0.5e-9/yr\n",
    "r = 1.25e-8"
   ]
  },
  {
   "cell_type": "markdown",
   "metadata": {},
   "source": [
    "# Demographic model 1"
   ]
  },
  {
   "cell_type": "markdown",
   "metadata": {},
   "source": [
    "### Fixed splits, admixture dates and fractions:"
   ]
  },
  {
   "cell_type": "code",
   "execution_count": 5,
   "metadata": {},
   "outputs": [],
   "source": [
    "t_AB_split = 4000\n",
    "\n",
    "# Population sizes\n",
    "popA_N_start = 10000  \n",
    "popA_N_end = 1000 \n",
    "popB_N = 10000\n",
    "popAB_N = 10000\n",
    "popA_rate = -np.log(popA_N_end/popA_N_start) / t_AB_split # calculate growth rate required to decrease popA from start to end size (backwards in time)\n",
    "\n",
    "# build msprime demographies\n",
    "demography1 = msp.Demography()\n",
    "demography1.add_population(name=\"PA\", initial_size=popA_N_start, growth_rate=popA_rate, default_sampling_time=0)\n",
    "demography1.add_population(name=\"PB\", initial_size=popB_N, default_sampling_time=0)\n",
    "demography1.add_population(name=\"PAB\", initial_size=popB_N, default_sampling_time=t_AB_split)\n",
    "demography1.add_population_split(time=t_AB_split, derived=['PA','PB'], ancestral='PAB') # add the fixed split to msprime's demography\n",
    "demography1.sort_events()"
   ]
  },
  {
   "cell_type": "code",
   "execution_count": 6,
   "metadata": {},
   "outputs": [
    {
     "data": {
      "text/html": [
       "<div style=\"margin-left:20px\"><div><style scoped=\"\">\n",
       "            .tskit-table thead tr th:only-of-type {vertical-align: middle;}\n",
       "            .tskit-table thead tr th {text-align: center;vertical-align: top;}\n",
       "            .tskit-table tbody td {text-align: right;padding: 0.5em 0.5em;}\n",
       "            .tskit-table tbody th {padding: 0.5em 0.5em;}\n",
       "        </style><b>Populations (3)</b><table border=\"1\" class=\"tskit-table\"><thead><tr><th>id</th><th>name</th><th>description</th><th>initial_size</th><th>growth_rate</th><th>default_sampling_time</th><th>extra_metadata</th></tr></thead><tbody><tr><td>0</td><td>PA</td><td></td><td>10000.0</td><td>0.00058</td><td>0</td><td>{}</td></tr><tr><td>1</td><td>PB</td><td></td><td>10000.0</td><td>0</td><td>0</td><td>{}</td></tr><tr><td>2</td><td>PAB</td><td></td><td>10000.0</td><td>0</td><td>4e+03</td><td>{}</td></tr></tbody></table></div><div><style scoped=\"\">\n",
       "            .tskit-table thead tr th:only-of-type {vertical-align: middle;}\n",
       "            .tskit-table thead tr th {text-align: center;vertical-align: top;}\n",
       "            .tskit-table tbody td {text-align: right;padding: 0.5em 0.5em;}\n",
       "            .tskit-table tbody th {padding: 0.5em 0.5em;}\n",
       "        </style><b>Migration matrix (all zero)</b><table border=\"1\" class=\"tskit-table\"><thead><tr></tr></thead><tbody></tbody></table></div><div><style scoped=\"\">\n",
       "            .tskit-table thead tr th:only-of-type {vertical-align: middle;}\n",
       "            .tskit-table thead tr th {text-align: center;vertical-align: top;}\n",
       "            .tskit-table tbody td {text-align: right;padding: 0.5em 0.5em;}\n",
       "            .tskit-table tbody th {padding: 0.5em 0.5em;}\n",
       "        </style><b>Events (1)</b><table border=\"1\" class=\"tskit-table\"><thead><tr><th>time</th><th>type</th><th>parameters</th><th>effect</th></tr></thead><tbody><tr><td>4000</td><td><a href='https://tskit.dev/msprime/docs/latest/api.html#msprime.Demography.add_population_split'>Population Split</a></td><td>derived=[PA, PB], ancestral=PAB</td><td>Moves all lineages from derived populations &#x27;PA&#x27; and &#x27;PB&#x27; to the ancestral &#x27;PAB&#x27; population. Also set the derived populations to inactive, and all migration rates to and from the derived populations to zero.</td></tr></tbody></table></div></div>"
      ],
      "text/plain": [
       "Demography(populations=[Population(initial_size=10000, growth_rate=0.0005756462732485114, name='PA', description='', extra_metadata={}, default_sampling_time=0, initially_active=None, id=0), Population(initial_size=10000, growth_rate=0, name='PB', description='', extra_metadata={}, default_sampling_time=0, initially_active=None, id=1), Population(initial_size=10000, growth_rate=0, name='PAB', description='', extra_metadata={}, default_sampling_time=4000, initially_active=False, id=2)], events=[PopulationSplit(time=4000, derived=['PA', 'PB'], ancestral='PAB')], migration_matrix=array([[0., 0., 0.],\n",
       "       [0., 0., 0.],\n",
       "       [0., 0., 0.]]))"
      ]
     },
     "execution_count": 6,
     "metadata": {},
     "output_type": "execute_result"
    }
   ],
   "source": [
    "demography1"
   ]
  },
  {
   "cell_type": "markdown",
   "metadata": {},
   "source": [
    "### Choose samples to take from demographic objects"
   ]
  },
  {
   "cell_type": "code",
   "execution_count": 7,
   "metadata": {},
   "outputs": [],
   "source": [
    "def set_up_samples(tS):\n",
    "    samples = [msp.SampleSet(num_samples=1, population=0, time=tS[0], ploidy=2)] # Series of samples taken at different times from popA\n",
    "    samples.extend([msp.SampleSet(num_samples=1, population=0, time=tS[1], ploidy=2)]) \n",
    "    samples.extend([msp.SampleSet(num_samples=1, population=0, time=tS[2], ploidy=2)]) \n",
    "    samples.extend([msp.SampleSet(num_samples=1, population=0, time=tS[3], ploidy=2)]) \n",
    "    samples.extend([msp.SampleSet(num_samples=1, population=0, time=tS[4], ploidy=2)]) \n",
    "    samples.extend([msp.SampleSet(num_samples=1, population=0, time=tS[5], ploidy=2)]) \n",
    "    samples.extend([msp.SampleSet(num_samples=1, population=0, time=tS[6], ploidy=2)]) \n",
    "    return samples\n",
    "\n",
    "tS=[0,120,240,360,480,600,720]\n",
    "Samples = set_up_samples(tS)"
   ]
  },
  {
   "cell_type": "code",
   "execution_count": 213,
   "metadata": {},
   "outputs": [],
   "source": [
    "numRuns=1000 # the number of independent simulations to run for a given demography"
   ]
  },
  {
   "cell_type": "code",
   "execution_count": 214,
   "metadata": {},
   "outputs": [
    {
     "ename": "KeyboardInterrupt",
     "evalue": "",
     "output_type": "error",
     "traceback": [
      "\u001b[0;31m---------------------------------------------------------------------------\u001b[0m",
      "\u001b[0;31mKeyboardInterrupt\u001b[0m                         Traceback (most recent call last)",
      "Cell \u001b[0;32mIn[214], line 23\u001b[0m\n\u001b[1;32m     20\u001b[0m repeats \u001b[38;5;241m=\u001b[39m np\u001b[38;5;241m.\u001b[39marray([\u001b[38;5;241m7\u001b[39m])\n\u001b[1;32m     21\u001b[0m chrono_order_coverage \u001b[38;5;241m=\u001b[39m np\u001b[38;5;241m.\u001b[39mrepeat(covs, repeats)\n\u001b[0;32m---> 23\u001b[0m geno_data1, positions1 \u001b[38;5;241m=\u001b[39m \u001b[43msequencing\u001b[49m\u001b[43m(\u001b[49m\u001b[43mts\u001b[49m\u001b[43m \u001b[49m\u001b[38;5;241;43m=\u001b[39;49m\u001b[43m \u001b[49m\u001b[43mmut_treesq1\u001b[49m\u001b[43m,\u001b[49m\n\u001b[1;32m     24\u001b[0m \u001b[43m                              \u001b[49m\u001b[43mssize\u001b[49m\u001b[43m \u001b[49m\u001b[38;5;241;43m=\u001b[39;49m\u001b[43m \u001b[49m\u001b[38;5;241;43m7\u001b[39;49m\u001b[43m,\u001b[49m\n\u001b[1;32m     25\u001b[0m \u001b[43m                              \u001b[49m\u001b[43mttr\u001b[49m\u001b[43m \u001b[49m\u001b[38;5;241;43m=\u001b[39;49m\u001b[43m \u001b[49m\u001b[38;5;241;43m2.1\u001b[39;49m\u001b[43m,\u001b[49m\n\u001b[1;32m     26\u001b[0m \u001b[43m                              \u001b[49m\u001b[43mseq_error\u001b[49m\u001b[43m \u001b[49m\u001b[38;5;241;43m=\u001b[39;49m\u001b[43m \u001b[49m\u001b[38;5;241;43m0.005\u001b[39;49m\u001b[43m,\u001b[49m\n\u001b[1;32m     27\u001b[0m \u001b[43m                              \u001b[49m\u001b[43mdamage\u001b[49m\u001b[43m \u001b[49m\u001b[38;5;241;43m=\u001b[39;49m\u001b[43m \u001b[49m\u001b[43mchrono_order_is_damaged\u001b[49m\u001b[43m,\u001b[49m\n\u001b[1;32m     28\u001b[0m \u001b[43m                              \u001b[49m\u001b[43mcov\u001b[49m\u001b[43m \u001b[49m\u001b[38;5;241;43m=\u001b[39;49m\u001b[43m \u001b[49m\u001b[43mchrono_order_coverage\u001b[49m\u001b[43m)\u001b[49m\n\u001b[1;32m     30\u001b[0m \u001b[38;5;66;03m# Export the genotype data to allel. Unfortunately there's a slight mismatch in the terminology here where genotypes and haplotypes mean different things in the two libraries.\u001b[39;00m\n\u001b[1;32m     31\u001b[0m \u001b[38;5;28;01mif\u001b[39;00m aRun \u001b[38;5;241m==\u001b[39m \u001b[38;5;241m0\u001b[39m:\n",
      "Cell \u001b[0;32mIn[208], line 114\u001b[0m, in \u001b[0;36msequencing\u001b[0;34m(ts, ssize, ttr, seq_error, damage, cov)\u001b[0m\n\u001b[1;32m    112\u001b[0m \u001b[38;5;28;01mfor\u001b[39;00m i \u001b[38;5;129;01min\u001b[39;00m \u001b[38;5;28mrange\u001b[39m(\u001b[38;5;241m0\u001b[39m, \u001b[38;5;241m2\u001b[39m \u001b[38;5;241m*\u001b[39m ssize, \u001b[38;5;241m2\u001b[39m):\n\u001b[1;32m    113\u001b[0m     \u001b[38;5;28;01mif\u001b[39;00m \u001b[38;5;28mlen\u001b[39m(variant\u001b[38;5;241m.\u001b[39malleles)\u001b[38;5;241m==\u001b[39m\u001b[38;5;241m2\u001b[39m:\n\u001b[0;32m--> 114\u001b[0m         gt_call \u001b[38;5;241m=\u001b[39m \u001b[43msnp_calling\u001b[49m\u001b[43m(\u001b[49m\u001b[43mtrue_genotype\u001b[49m\u001b[43m \u001b[49m\u001b[38;5;241;43m=\u001b[39;49m\u001b[43m \u001b[49m\u001b[43mvar_genotypes\u001b[49m\u001b[43m[\u001b[49m\u001b[43mi\u001b[49m\u001b[43m:\u001b[49m\u001b[43m(\u001b[49m\u001b[43mi\u001b[49m\u001b[43m \u001b[49m\u001b[38;5;241;43m+\u001b[39;49m\u001b[43m \u001b[49m\u001b[38;5;241;43m2\u001b[39;49m\u001b[43m)\u001b[49m\u001b[43m]\u001b[49m\u001b[43m,\u001b[49m\n\u001b[1;32m    115\u001b[0m \u001b[43m                              \u001b[49m\u001b[43mf_num_reads\u001b[49m\u001b[43m \u001b[49m\u001b[38;5;241;43m=\u001b[39;49m\u001b[43m \u001b[49m\u001b[43mnum_reads\u001b[49m\u001b[43m[\u001b[49m\u001b[38;5;28;43mint\u001b[39;49m\u001b[43m(\u001b[49m\u001b[43mi\u001b[49m\u001b[43m \u001b[49m\u001b[38;5;241;43m/\u001b[39;49m\u001b[43m \u001b[49m\u001b[38;5;241;43m2\u001b[39;49m\u001b[43m)\u001b[49m\u001b[43m]\u001b[49m\u001b[43m,\u001b[49m\n\u001b[1;32m    116\u001b[0m \u001b[43m                              \u001b[49m\u001b[43mdamage\u001b[49m\u001b[43m \u001b[49m\u001b[38;5;241;43m=\u001b[39;49m\u001b[43m \u001b[49m\u001b[43mdamage\u001b[49m\u001b[43m[\u001b[49m\u001b[38;5;28;43mint\u001b[39;49m\u001b[43m(\u001b[49m\u001b[43mi\u001b[49m\u001b[43m \u001b[49m\u001b[38;5;241;43m/\u001b[39;49m\u001b[43m \u001b[49m\u001b[38;5;241;43m2\u001b[39;49m\u001b[43m)\u001b[49m\u001b[43m]\u001b[49m\u001b[43m,\u001b[49m\n\u001b[1;32m    117\u001b[0m \u001b[43m                              \u001b[49m\u001b[43mtransversion\u001b[49m\u001b[43m \u001b[49m\u001b[38;5;241;43m=\u001b[39;49m\u001b[43m \u001b[49m\u001b[43mtransversion_snp\u001b[49m\u001b[43m)\u001b[49m\n\u001b[1;32m    118\u001b[0m     \u001b[38;5;28;01melse\u001b[39;00m:\n\u001b[1;32m    119\u001b[0m         gt_call \u001b[38;5;241m=\u001b[39m [\u001b[38;5;241m-\u001b[39m\u001b[38;5;241m1\u001b[39m, \u001b[38;5;241m-\u001b[39m\u001b[38;5;241m1\u001b[39m] \u001b[38;5;66;03m# this removes all SNP with more than two alleles\u001b[39;00m\n",
      "Cell \u001b[0;32mIn[208], line 49\u001b[0m, in \u001b[0;36msnp_calling\u001b[0;34m(true_genotype, f_num_reads, error_rate, reads_th, score_th, ratio_th, damage, transversion)\u001b[0m\n\u001b[1;32m     47\u001b[0m derived_count \u001b[38;5;241m=\u001b[39m \u001b[38;5;28msum\u001b[39m(true_genotype)\n\u001b[1;32m     48\u001b[0m p_derived \u001b[38;5;241m=\u001b[39m derived_count \u001b[38;5;241m/\u001b[39m \u001b[38;5;241m2.\u001b[39m \u001b[38;5;241m*\u001b[39m (\u001b[38;5;241m1\u001b[39m \u001b[38;5;241m-\u001b[39m error_rate) \u001b[38;5;241m+\u001b[39m (\u001b[38;5;241m1\u001b[39m \u001b[38;5;241m-\u001b[39m derived_count \u001b[38;5;241m/\u001b[39m \u001b[38;5;241m2.\u001b[39m) \u001b[38;5;241m*\u001b[39m error_rate\n\u001b[0;32m---> 49\u001b[0m derived_reads \u001b[38;5;241m=\u001b[39m \u001b[43mst\u001b[49m\u001b[38;5;241;43m.\u001b[39;49m\u001b[43mbinom\u001b[49m\u001b[38;5;241;43m.\u001b[39;49m\u001b[43mrvs\u001b[49m\u001b[43m(\u001b[49m\u001b[43mf_num_reads\u001b[49m\u001b[43m,\u001b[49m\u001b[43m \u001b[49m\u001b[43mp_derived\u001b[49m\u001b[43m)\u001b[49m\n\u001b[1;32m     50\u001b[0m ancestral_reads \u001b[38;5;241m=\u001b[39m f_num_reads \u001b[38;5;241m-\u001b[39m derived_reads\n\u001b[1;32m     51\u001b[0m \u001b[38;5;28;01mif\u001b[39;00m f_num_reads \u001b[38;5;241m>\u001b[39m\u001b[38;5;241m=\u001b[39m (score_th\u001b[38;5;241m*\u001b[39m\u001b[38;5;241m2\u001b[39m):\n",
      "File \u001b[0;32m~/anaconda3/envs/popgen_env/lib/python3.12/site-packages/scipy/stats/_distn_infrastructure.py:3349\u001b[0m, in \u001b[0;36mrv_discrete.rvs\u001b[0;34m(self, *args, **kwargs)\u001b[0m\n\u001b[1;32m   3320\u001b[0m \u001b[38;5;250m\u001b[39m\u001b[38;5;124;03m\"\"\"Random variates of given type.\u001b[39;00m\n\u001b[1;32m   3321\u001b[0m \n\u001b[1;32m   3322\u001b[0m \u001b[38;5;124;03mParameters\u001b[39;00m\n\u001b[0;32m   (...)\u001b[0m\n\u001b[1;32m   3346\u001b[0m \n\u001b[1;32m   3347\u001b[0m \u001b[38;5;124;03m\"\"\"\u001b[39;00m\n\u001b[1;32m   3348\u001b[0m kwargs[\u001b[38;5;124m'\u001b[39m\u001b[38;5;124mdiscrete\u001b[39m\u001b[38;5;124m'\u001b[39m] \u001b[38;5;241m=\u001b[39m \u001b[38;5;28;01mTrue\u001b[39;00m\n\u001b[0;32m-> 3349\u001b[0m \u001b[38;5;28;01mreturn\u001b[39;00m \u001b[38;5;28;43msuper\u001b[39;49m\u001b[43m(\u001b[49m\u001b[43m)\u001b[49m\u001b[38;5;241;43m.\u001b[39;49m\u001b[43mrvs\u001b[49m\u001b[43m(\u001b[49m\u001b[38;5;241;43m*\u001b[39;49m\u001b[43margs\u001b[49m\u001b[43m,\u001b[49m\u001b[43m \u001b[49m\u001b[38;5;241;43m*\u001b[39;49m\u001b[38;5;241;43m*\u001b[39;49m\u001b[43mkwargs\u001b[49m\u001b[43m)\u001b[49m\n",
      "File \u001b[0;32m~/anaconda3/envs/popgen_env/lib/python3.12/site-packages/scipy/stats/_distn_infrastructure.py:1049\u001b[0m, in \u001b[0;36mrv_generic.rvs\u001b[0;34m(self, *args, **kwds)\u001b[0m\n\u001b[1;32m   1047\u001b[0m discrete \u001b[38;5;241m=\u001b[39m kwds\u001b[38;5;241m.\u001b[39mpop(\u001b[38;5;124m'\u001b[39m\u001b[38;5;124mdiscrete\u001b[39m\u001b[38;5;124m'\u001b[39m, \u001b[38;5;28;01mNone\u001b[39;00m)\n\u001b[1;32m   1048\u001b[0m rndm \u001b[38;5;241m=\u001b[39m kwds\u001b[38;5;241m.\u001b[39mpop(\u001b[38;5;124m'\u001b[39m\u001b[38;5;124mrandom_state\u001b[39m\u001b[38;5;124m'\u001b[39m, \u001b[38;5;28;01mNone\u001b[39;00m)\n\u001b[0;32m-> 1049\u001b[0m args, loc, scale, size \u001b[38;5;241m=\u001b[39m \u001b[38;5;28;43mself\u001b[39;49m\u001b[38;5;241;43m.\u001b[39;49m\u001b[43m_parse_args_rvs\u001b[49m\u001b[43m(\u001b[49m\u001b[38;5;241;43m*\u001b[39;49m\u001b[43margs\u001b[49m\u001b[43m,\u001b[49m\u001b[43m \u001b[49m\u001b[38;5;241;43m*\u001b[39;49m\u001b[38;5;241;43m*\u001b[39;49m\u001b[43mkwds\u001b[49m\u001b[43m)\u001b[49m\n\u001b[1;32m   1050\u001b[0m cond \u001b[38;5;241m=\u001b[39m logical_and(\u001b[38;5;28mself\u001b[39m\u001b[38;5;241m.\u001b[39m_argcheck(\u001b[38;5;241m*\u001b[39margs), (scale \u001b[38;5;241m>\u001b[39m\u001b[38;5;241m=\u001b[39m \u001b[38;5;241m0\u001b[39m))\n\u001b[1;32m   1051\u001b[0m \u001b[38;5;28;01mif\u001b[39;00m \u001b[38;5;129;01mnot\u001b[39;00m np\u001b[38;5;241m.\u001b[39mall(cond):\n",
      "File \u001b[0;32m<string>:6\u001b[0m, in \u001b[0;36m_parse_args_rvs\u001b[0;34m(self, n, p, loc, size)\u001b[0m\n",
      "File \u001b[0;32m~/anaconda3/envs/popgen_env/lib/python3.12/site-packages/scipy/stats/_distn_infrastructure.py:881\u001b[0m, in \u001b[0;36mrv_generic._argcheck_rvs\u001b[0;34m(self, *args, **kwargs)\u001b[0m\n\u001b[1;32m    869\u001b[0m \u001b[38;5;28;01mdef\u001b[39;00m \u001b[38;5;21m_argcheck_rvs\u001b[39m(\u001b[38;5;28mself\u001b[39m, \u001b[38;5;241m*\u001b[39margs, \u001b[38;5;241m*\u001b[39m\u001b[38;5;241m*\u001b[39mkwargs):\n\u001b[1;32m    870\u001b[0m     \u001b[38;5;66;03m# Handle broadcasting and size validation of the rvs method.\u001b[39;00m\n\u001b[1;32m    871\u001b[0m     \u001b[38;5;66;03m# Subclasses should not have to override this method.\u001b[39;00m\n\u001b[0;32m   (...)\u001b[0m\n\u001b[1;32m    878\u001b[0m     \u001b[38;5;66;03m# shape parameters `a` and `b`, `args` will be `(a, b, loc, scale)`).\u001b[39;00m\n\u001b[1;32m    879\u001b[0m     \u001b[38;5;66;03m# The only keyword argument expected is 'size'.\u001b[39;00m\n\u001b[1;32m    880\u001b[0m     size \u001b[38;5;241m=\u001b[39m kwargs\u001b[38;5;241m.\u001b[39mget(\u001b[38;5;124m'\u001b[39m\u001b[38;5;124msize\u001b[39m\u001b[38;5;124m'\u001b[39m, \u001b[38;5;28;01mNone\u001b[39;00m)\n\u001b[0;32m--> 881\u001b[0m     all_bcast \u001b[38;5;241m=\u001b[39m \u001b[43mnp\u001b[49m\u001b[38;5;241;43m.\u001b[39;49m\u001b[43mbroadcast_arrays\u001b[49m\u001b[43m(\u001b[49m\u001b[38;5;241;43m*\u001b[39;49m\u001b[43margs\u001b[49m\u001b[43m)\u001b[49m\n\u001b[1;32m    883\u001b[0m     \u001b[38;5;28;01mdef\u001b[39;00m \u001b[38;5;21msqueeze_left\u001b[39m(a):\n\u001b[1;32m    884\u001b[0m         \u001b[38;5;28;01mwhile\u001b[39;00m a\u001b[38;5;241m.\u001b[39mndim \u001b[38;5;241m>\u001b[39m \u001b[38;5;241m0\u001b[39m \u001b[38;5;129;01mand\u001b[39;00m a\u001b[38;5;241m.\u001b[39mshape[\u001b[38;5;241m0\u001b[39m] \u001b[38;5;241m==\u001b[39m \u001b[38;5;241m1\u001b[39m:\n",
      "File \u001b[0;32m~/anaconda3/envs/popgen_env/lib/python3.12/site-packages/numpy/lib/stride_tricks.py:538\u001b[0m, in \u001b[0;36mbroadcast_arrays\u001b[0;34m(subok, *args)\u001b[0m\n\u001b[1;32m    482\u001b[0m \u001b[38;5;250m\u001b[39m\u001b[38;5;124;03m\"\"\"\u001b[39;00m\n\u001b[1;32m    483\u001b[0m \u001b[38;5;124;03mBroadcast any number of arrays against each other.\u001b[39;00m\n\u001b[1;32m    484\u001b[0m \n\u001b[0;32m   (...)\u001b[0m\n\u001b[1;32m    531\u001b[0m \n\u001b[1;32m    532\u001b[0m \u001b[38;5;124;03m\"\"\"\u001b[39;00m\n\u001b[1;32m    533\u001b[0m \u001b[38;5;66;03m# nditer is not used here to avoid the limit of 32 arrays.\u001b[39;00m\n\u001b[1;32m    534\u001b[0m \u001b[38;5;66;03m# Otherwise, something like the following one-liner would suffice:\u001b[39;00m\n\u001b[1;32m    535\u001b[0m \u001b[38;5;66;03m# return np.nditer(args, flags=['multi_index', 'zerosize_ok'],\u001b[39;00m\n\u001b[1;32m    536\u001b[0m \u001b[38;5;66;03m#                  order='C').itviews\u001b[39;00m\n\u001b[0;32m--> 538\u001b[0m args \u001b[38;5;241m=\u001b[39m [\u001b[43mnp\u001b[49m\u001b[38;5;241;43m.\u001b[39;49m\u001b[43marray\u001b[49m\u001b[43m(\u001b[49m\u001b[43m_m\u001b[49m\u001b[43m,\u001b[49m\u001b[43m \u001b[49m\u001b[43mcopy\u001b[49m\u001b[38;5;241;43m=\u001b[39;49m\u001b[38;5;28;43;01mFalse\u001b[39;49;00m\u001b[43m,\u001b[49m\u001b[43m \u001b[49m\u001b[43msubok\u001b[49m\u001b[38;5;241;43m=\u001b[39;49m\u001b[43msubok\u001b[49m\u001b[43m)\u001b[49m \u001b[38;5;28;01mfor\u001b[39;00m _m \u001b[38;5;129;01min\u001b[39;00m args]\n\u001b[1;32m    540\u001b[0m shape \u001b[38;5;241m=\u001b[39m _broadcast_shape(\u001b[38;5;241m*\u001b[39margs)\n\u001b[1;32m    542\u001b[0m \u001b[38;5;28;01mif\u001b[39;00m \u001b[38;5;28mall\u001b[39m(array\u001b[38;5;241m.\u001b[39mshape \u001b[38;5;241m==\u001b[39m shape \u001b[38;5;28;01mfor\u001b[39;00m array \u001b[38;5;129;01min\u001b[39;00m args):\n\u001b[1;32m    543\u001b[0m     \u001b[38;5;66;03m# Common case where nothing needs to be broadcasted.\u001b[39;00m\n",
      "\u001b[0;31mKeyboardInterrupt\u001b[0m: "
     ]
    }
   ],
   "source": [
    "for aRun in range(numRuns):\n",
    "    ts1 = msp.sim_ancestry(\n",
    "        samples = Samples,\n",
    "        demography=demography1,\n",
    "        recombination_rate=r,\n",
    "        sequence_length=L,\n",
    "        model=[msp.DiscreteTimeWrightFisher(duration=50), msp.StandardCoalescent()],\n",
    "        random_seed=None\n",
    "    )\n",
    "    # This generates an ancestral history for samples. If we want genome sequence we must also simulate mutations on these trees. \n",
    "    # Note I am running Discrete Time Wright Fisher model for time=50. This is to better model long-range LD when simulating long sequences. This\n",
    "    # is only an issue in recent past, and then I revert to standard coalescent model. Slows simulations, but may remove spurious high LD.\n",
    "    # Given an input tree sequence, superimpose mutations on that ancestral history.  \n",
    "    \n",
    "    mut_treesq1 = msp.sim_mutations(ts1, rate=mu, random_seed=None)\n",
    "    \n",
    "    # pipe perfect simulation results through functions to add errors and make comparable to empirical data\n",
    "    chrono_order_is_damaged = np.repeat(np.array([True,False], dtype=bool), [0,7])\n",
    "    covs = np.array([50.0]) # coverages of all samples\n",
    "    repeats = np.array([7])\n",
    "    chrono_order_coverage = np.repeat(covs, repeats)\n",
    "\n",
    "    geno_data1, positions1 = sequencing(ts = mut_treesq1,\n",
    "                                  ssize = 7,\n",
    "                                  ttr = 2.1,\n",
    "                                  seq_error = 0.005,\n",
    "                                  damage = chrono_order_is_damaged,\n",
    "                                  cov = chrono_order_coverage)\n",
    "\n",
    "    # Export the genotype data to allel. Unfortunately there's a slight mismatch in the terminology here where genotypes and haplotypes mean different things in the two libraries.\n",
    "    if aRun == 0:\n",
    "        geno_arr1 = geno_data1\n",
    "        pos_list1 = positions1\n",
    "    else:\n",
    "        geno_arr1 = np.concatenate((geno_arr1,geno_data1),axis=0) # stack arrays row-wise\n",
    "        pos_list1.extend(x+(aRun*L) for x in positions1) # keep adding current length of simulated sequence to positions\n",
    "geno_arr1 = allel.GenotypeArray(geno_arr1, dtype='i1')"
   ]
  },
  {
   "cell_type": "markdown",
   "metadata": {},
   "source": [
    "### Save / load data as numpy arrays"
   ]
  },
  {
   "cell_type": "code",
   "execution_count": 8,
   "metadata": {},
   "outputs": [],
   "source": [
    "np.save('GenoMatModel1.npy', geno_arr1)"
   ]
  },
  {
   "cell_type": "code",
   "execution_count": 9,
   "metadata": {},
   "outputs": [
    {
     "data": {
      "text/plain": [
       "{'divide': 'warn', 'over': 'warn', 'under': 'ignore', 'invalid': 'warn'}"
      ]
     },
     "execution_count": 9,
     "metadata": {},
     "output_type": "execute_result"
    }
   ],
   "source": [
    "# First get haplotype array for all samples in each  results matrix\n",
    "def pop_sample_ac(geno_arr):\n",
    "    ac_1 = geno_arr[:,6:7].count_alleles()\n",
    "    ac_2 = geno_arr[:,5:6].count_alleles()\n",
    "    ac_3 = geno_arr[:,4:5].count_alleles()\n",
    "    ac_4 = geno_arr[:,3:4].count_alleles()\n",
    "    ac_5 = geno_arr[:,2:3].count_alleles()\n",
    "    ac_6 = geno_arr[:,1:2].count_alleles()\n",
    "    ac_7 = geno_arr[:,0:1].count_alleles()\n",
    "    arrays = [ac_1,ac_2,ac_3,ac_4,ac_5,ac_6,ac_7]  # stack arrays\n",
    "    return arrays\n",
    "ac_samples_1 = pop_sample_ac(geno_arr1)\n",
    "\n",
    "# Ignore some warnings when calculating summary stats with missing data, typically on Tajima's D and Fst (division by zero, etc) \n",
    "np.seterr(invalid='ignore',divide='ignore')"
   ]
  },
  {
   "cell_type": "code",
   "execution_count": 10,
   "metadata": {},
   "outputs": [],
   "source": [
    "populations = np.array(['1', '2', '3', '4', '5', '6', '7'], dtype=object)\n",
    "pop_colours = {\n",
    "    '1': '#FF0000',\n",
    "    '2': '#008000',\n",
    "    '3': '#00FFFF',\n",
    "    '4': '#90EE90',\n",
    "    '5': '#FFA500',\n",
    "    '6': '#8B0000',\n",
    "    '7': '#1E90FF'\n",
    "}"
   ]
  },
  {
   "cell_type": "markdown",
   "metadata": {},
   "source": [
    "# Demographic model 2"
   ]
  },
  {
   "cell_type": "markdown",
   "metadata": {},
   "source": [
    "# Set up the demographic model"
   ]
  },
  {
   "cell_type": "code",
   "execution_count": 11,
   "metadata": {},
   "outputs": [],
   "source": [
    "# Admixture times (gens) and proportions\n",
    "adm_t1, adm_frac1 = 420, 0.25 \n",
    "adm_t2, adm_frac2 = 180, 0.25\n",
    "\n",
    "# build msprime demographies\n",
    "demography2 = msp.Demography()\n",
    "demography2.add_population(name=\"PA\", initial_size=popA_N_start, growth_rate=popA_rate, default_sampling_time=0)\n",
    "demography2.add_population(name=\"PB\", initial_size=popB_N, default_sampling_time=0)\n",
    "demography2.add_population(name=\"PAB\", initial_size=popB_N, default_sampling_time=t_AB_split)\n",
    "demography2.add_population_split(time=t_AB_split, derived=['PA','PB'], ancestral='PAB') # add the fixed split to msprime's demography\n",
    "demography2.add_mass_migration(time=adm_t1, source='PA', dest='PB', proportion=adm_frac1) # equivalent to PB to PA forwards in time\n",
    "demography2.add_mass_migration(time=adm_t2, source='PA', dest='PB', proportion=adm_frac2) # equivalent to PB to PA forwards in time\n",
    "demography2.sort_events()"
   ]
  },
  {
   "cell_type": "code",
   "execution_count": null,
   "metadata": {},
   "outputs": [],
   "source": [
    "## Run simulations for model 2\n",
    "for aRun in range(numRuns):\n",
    "    ts2 = msp.sim_ancestry(\n",
    "        samples = Samples,\n",
    "        demography=demography2,\n",
    "        recombination_rate=r,\n",
    "        sequence_length=L,\n",
    "        model=[msp.DiscreteTimeWrightFisher(duration=50), msp.StandardCoalescent()],\n",
    "        random_seed=None\n",
    "    )\n",
    "    mut_treesq2 = msp.sim_mutations(ts2, rate=mu, random_seed=None)\n",
    "    \n",
    "    # pipe perfect simulation results through functions to add errors and make comparable to empirical data\n",
    "    chrono_order_is_damaged = np.repeat(np.array([True,False], dtype=bool), [0,7])\n",
    "    covs = np.array([50.0]) # coverages of all samples (moderns from SGDP)\n",
    "    repeats = np.array([7])\n",
    "    chrono_order_coverage = np.repeat(covs, repeats)\n",
    "    geno_data2, positions2 = sequencing(ts = mut_treesq2,\n",
    "                                  ssize = 7,\n",
    "                                  ttr = 2.1,\n",
    "                                  seq_error = 0.005,\n",
    "                                  damage = chrono_order_is_damaged,\n",
    "                                  cov = chrono_order_coverage) \n",
    "    # Export the genotype data to allel. Unfortunately there's a slight mismatch in the terminology here where genotypes and haplotypes mean different things in the two libraries.\n",
    "    if aRun == 0:\n",
    "        geno_arr2 = geno_data2\n",
    "        pos_list2 = positions2\n",
    "    else:\n",
    "        geno_arr2 = np.concatenate((geno_arr2,geno_data2),axis=0) # stack arrays row-wise\n",
    "        pos_list2.extend(x+(aRun*L) for x in positions2) # keep adding current length of simulated sequence to positions\n",
    "geno_arr2 = allel.GenotypeArray(geno_arr2, dtype='i1')"
   ]
  },
  {
   "cell_type": "code",
   "execution_count": 12,
   "metadata": {},
   "outputs": [],
   "source": [
    "np.save('GenoMatModel2.npy', geno_arr2)"
   ]
  },
  {
   "cell_type": "code",
   "execution_count": 13,
   "metadata": {},
   "outputs": [],
   "source": [
    "# First get haplotype array for all samples in each results matrix\n",
    "ac_samples_2 = pop_sample_ac(geno_arr2)"
   ]
  },
  {
   "cell_type": "markdown",
   "metadata": {},
   "source": [
    "### Load in demographic model data as numpy arrays"
   ]
  },
  {
   "cell_type": "code",
   "execution_count": null,
   "metadata": {},
   "outputs": [],
   "source": [
    "#geno_arr1 = np.load('Genoarr1.npy')\n",
    "#geno_arr1 = allel.GenotypeArray(geno_arr1, dtype='i1')\n",
    "#geno_arr2 = np.load('Genoarr2.npy')\n",
    "#geno_arr2 = allel.GenotypeArray(geno_arr2, dtype='i1')\n",
    "#ac_samples_1 = pop_sample_ac(geno_arr1)\n",
    "#ac_samples_2 = pop_sample_ac(geno_arr2)"
   ]
  },
  {
   "cell_type": "markdown",
   "metadata": {},
   "source": [
    "## Calculate Pairwise Fst for each model and plot as Heatmaps"
   ]
  },
  {
   "cell_type": "code",
   "execution_count": 14,
   "metadata": {},
   "outputs": [],
   "source": [
    "def get_pairwise_fst(ac_samples):\n",
    "    \"\"\"Calculate pairwise Fst for a given set of allele count arrays.\"\"\"\n",
    "    num_samples = len(ac_samples)\n",
    "    fst_matrix = np.zeros((num_samples, num_samples))\n",
    "    \n",
    "    for i in range(num_samples):\n",
    "        for j in range(i + 1, num_samples):\n",
    "            num, den = allel.hudson_fst(ac_samples[i], ac_samples[j])\n",
    "            valid = ~(np.isnan(num) | np.isnan(den))\n",
    "            if np.any(valid):\n",
    "                fst = np.sum(num[valid]) / np.sum(den[valid])\n",
    "                fst_matrix[i, j] = fst\n",
    "                fst_matrix[j, i] = fst  # Fst is symmetric\n",
    "    \n",
    "    return fst_matrix\n",
    "\n",
    "# Calculate Fst matrices\n",
    "fst_matrix1 = get_pairwise_fst(ac_samples_1[1:7])\n",
    "fst_matrix2 = get_pairwise_fst(ac_samples_2[1:7])"
   ]
  },
  {
   "cell_type": "code",
   "execution_count": 19,
   "metadata": {},
   "outputs": [
    {
     "data": {
      "image/png": "[encoded data removed]",
      "text/plain": [
       "<Figure size 800x1600 with 4 Axes>"
      ]
     },
     "metadata": {},
     "output_type": "display_data"
    }
   ],
   "source": [
    "def plot_pairwise_fst(fst_matrix1, fst_matrix2, sample_labels, title1, title2):\n",
    "    \"\"\"Plot two pairwise Fst matrices in one figure with titles.\"\"\"\n",
    "    fig, (ax1, ax2) = plt.subplots(nrows=2, ncols=1, figsize=(8, 16))  # Adjust the figure size as needed\n",
    "\n",
    "    # Plotting the first Fst matrix\n",
    "    cax1 = ax1.matshow(fst_matrix1, cmap='coolwarm')\n",
    "    fig.colorbar(cax1, ax=ax1, fraction=0.046, pad=0.04)  # Adjust colorbar size if needed\n",
    "    ax1.set_xticks(range(len(sample_labels)))\n",
    "    ax1.set_yticks(range(len(sample_labels)))\n",
    "    ax1.set_xticklabels(sample_labels)\n",
    "    ax1.set_yticklabels(sample_labels)\n",
    "    ax1.xaxis.set_label_position('bottom')\n",
    "    ax1.xaxis.tick_bottom()    \n",
    "    ax1.set_xlabel('Sample', fontsize=28, labelpad=10)\n",
    "    ax1.set_ylabel('Sample', fontsize=28, labelpad=10)\n",
    "    ax1.set_title(title1, fontsize=32, pad=20)\n",
    "    ax1.tick_params(axis='both', which='major', labelsize=24)  # Increase tick label size\n",
    "\n",
    "    # Plotting the second Fst matrix\n",
    "    cax2 = ax2.matshow(fst_matrix2, cmap='coolwarm')\n",
    "    fig.colorbar(cax2, ax=ax2, fraction=0.046, pad=0.04)\n",
    "    ax2.set_xticks(range(len(sample_labels)))\n",
    "    ax2.set_yticks(range(len(sample_labels)))\n",
    "    ax2.set_xticklabels(sample_labels)\n",
    "    ax2.set_yticklabels(sample_labels)\n",
    "    ax2.xaxis.set_label_position('bottom')\n",
    "    ax2.xaxis.tick_bottom()    \n",
    "    ax2.set_xlabel('Sample', fontsize=28, labelpad=10)\n",
    "    ax2.set_ylabel('Sample', fontsize=28, labelpad=10)\n",
    "    ax2.set_title(title2, fontsize=32, pad=20)\n",
    "    ax2.tick_params(axis='both', which='major', labelsize=24)  # Increase tick label size\n",
    "\n",
    "    plt.tight_layout()  # Adjust the overall layout\n",
    "    if isSaveFigures:\n",
    "        plt.savefig('Sim_Fst_bothModels.png', bbox_inches='tight', dpi=300)  # Save the figure as a file\n",
    "    plt.show()\n",
    "\n",
    "plot_pairwise_fst(fst_matrix1, fst_matrix2, populations[1:7], 'Model A: Private drift', 'Model B: Admixture')"
   ]
  },
  {
   "cell_type": "markdown",
   "metadata": {},
   "source": [
    "# Anchor statistic"
   ]
  },
  {
   "cell_type": "markdown",
   "metadata": {},
   "source": [
    "### Downsample array to sites that are heterozygous in the given anchor"
   ]
  },
  {
   "cell_type": "code",
   "execution_count": null,
   "metadata": {},
   "outputs": [],
   "source": [
    "def get_anc_subset(full_arr, anchor):\n",
    "    \"\"\"\n",
    "    Function to get subset of sites that are heterozygous in a given anchor individual\n",
    "    \"\"\"\n",
    "    mask = full_arr[:,anchor-1,:].sum(axis=1)==1\n",
    "    masked_arr = full_arr[mask,:,:]\n",
    "    return masked_arr\n",
    "\n",
    "anchor1_mat1 = get_anc_subset(geno_arr1,7) # the last sample is the oldest\n",
    "#np.save('AnchorHeterozygotes_Model1.npy', anchor1_mat1)\n",
    "anchor1_mat2 = get_anc_subset(geno_arr2,7)\n",
    "#np.save('AnchorHeterozygotes_Model2.npy', anchor1_mat2)"
   ]
  },
  {
   "cell_type": "code",
   "execution_count": null,
   "metadata": {},
   "outputs": [],
   "source": [
    "#anchor1_mat1 = np.load('AnchorHeterozygotes_Model1.npy')\n",
    "#anchor1_mat2 = np.load('AnchorHeterozygotes_Model2.npy')"
   ]
  },
  {
   "cell_type": "code",
   "execution_count": null,
   "metadata": {},
   "outputs": [],
   "source": [
    "geno_arr1"
   ]
  },
  {
   "cell_type": "markdown",
   "metadata": {},
   "source": [
    "### Get pseudohaploidized array and count derived in each individual"
   ]
  },
  {
   "cell_type": "code",
   "execution_count": null,
   "metadata": {},
   "outputs": [],
   "source": [
    "def get_pseudo_prop(x_arr):  # function to get proportions of a pseudo-haploidized 1D array\n",
    "    # make a random choice for each site\n",
    "    pseudohap_arr = np.array([random.choice(i) for i in x_arr.tolist()])    \n",
    "    out_val = np.true_divide(pseudohap_arr.sum(axis=0), pseudohap_arr.shape[0]).astype(float)\n",
    "    return out_val\n",
    "\n",
    "# Return an array of shape (12,2) with mean & SE for proportion derived per individual\n",
    "def get_prop_der(ind_arr, blen):\n",
    "    # compute the prop der within each block and return mean across all (same as overall derived)\n",
    "    b_prop_der = allel.moving_statistic(ind_arr, get_pseudo_prop, size=blen)\n",
    "    m, se, vj = jackknife(b_prop_der, statistic=np.mean)\n",
    "    return m, se\n",
    "\n",
    "# calculate the number of windows to use in jackknife estimation of confidence intervals. In real data we use 5Mb windows, each on average containing ~5000 heterozygous sites.\n",
    "# To build confidence intervals similarly for the simulated data, here I estimate the window size that contains ~5000 heterozygous sites, and use that to build intervals.\n",
    "window_size = int(min(anchor1_mat1.shape[0], anchor1_mat2.shape[0]) / 5000)\n",
    "\n",
    "propder_anchor1_mat1 = np.array([(get_prop_der(x, window_size)) for x in anchor1_mat1.transpose(1, 0, 2)])\n",
    "propder_anchor1_mat2 = np.array([(get_prop_der(x, window_size)) for x in anchor1_mat2.transpose(1, 0, 2)])"
   ]
  },
  {
   "cell_type": "code",
   "execution_count": null,
   "metadata": {},
   "outputs": [],
   "source": [
    "# Define function to plot proportion derived vs inds on x axis. \n",
    "def plot_prop_der(der_arr1, der_arr2, title=None):\n",
    "    \"\"\"\n",
    "    Plot the anchor statistic. Takes an array of proportion derived for two datasets and outputs line plot showing reduction in proportion derived.\n",
    "    \"\"\"\n",
    "    inds = [str(x) for x in list(range(2,8))][::-1]\n",
    "    y1 = der_arr1[:,0]\n",
    "    y2 = der_arr2[:,0]\n",
    "    sterr1 = 1.96*(der_arr1[:,1])\n",
    "    sterr2 = 1.96*(der_arr2[:,1])\n",
    "    x = inds\n",
    "    fig, ax = plt.subplots(figsize=(6, 10))\n",
    "    #sns.despine(ax=ax, offset=10)\n",
    "    ax.errorbar(y1, x, xerr=sterr1, marker='o', label=\"Private drift\")\n",
    "    ax.errorbar(y2, x, xerr=sterr2, marker='o', label=\"Admixture\")\n",
    "    # Adding horizontal dashed red lines\n",
    "    ax.axhline(y=3.5, color='r', linestyle='--', label='Pulse of 25% admixture')\n",
    "    ax.axhline(y=1.5, color='r', linestyle='--')  # Not labeling again to avoid duplicate in legend\n",
    "    ax.set_ylabel('Sample', labelpad=20)\n",
    "    ax.set_xlabel('Proportion derived', labelpad=20)\n",
    "#    lower, upper = np.min(y2)-0.01, np.max(y1)+0.015\n",
    "    ax.set_xlim(0.30, 0.42)\n",
    "    ax.legend(loc=2, title=\"Simulated model\")\n",
    "    sample_times = [str(x) for x in list(range(0,720,120))][::-1]\n",
    "    ax2 = ax.twinx()\n",
    "    ax2.plot(y1,sample_times)\n",
    "    ax2.set_ylabel('time (generations)', labelpad=20)\n",
    "    \n",
    "    for item in ([ax.title, ax.xaxis.label, ax.yaxis.label]):\n",
    "        item.set_fontsize(16)\n",
    "    for item in (ax.get_xticklabels() + ax.get_yticklabels()):\n",
    "        item.set_fontsize(12)        \n",
    "    fig.tight_layout()\n",
    "    if title:\n",
    "        ax.set_title(title)\n",
    "    if isSaveFigures:\n",
    "        plt.savefig('AnchorS1_bothModels.png', dpi=300) "
   ]
  },
  {
   "cell_type": "markdown",
   "metadata": {},
   "source": [
    "### Using the oldest individual as the anchor:"
   ]
  },
  {
   "cell_type": "code",
   "execution_count": null,
   "metadata": {},
   "outputs": [],
   "source": [
    "plot_prop_der(propder_anchor1_mat1[0:6,:], propder_anchor1_mat2[0:6,:])"
   ]
  },
  {
   "cell_type": "markdown",
   "metadata": {},
   "source": [
    "## Power analysis\n",
    "### Here we assess the impact of reducing number of anchor heterozygote sites on the anchor statistic. We do this by progressively thinning the dataset and recalculating anchor statistics across individuals."
   ]
  },
  {
   "cell_type": "code",
   "execution_count": null,
   "metadata": {},
   "outputs": [],
   "source": [
    "def thin_data(array, proportion):\n",
    "    \"\"\" Thin the data by randomly selecting a proportion of the anchor heterozygous sites used. \"\"\"\n",
    "    indices = np.random.choice(array.shape[0], int(array.shape[0] * proportion), replace=False)\n",
    "    return array[indices]"
   ]
  },
  {
   "cell_type": "code",
   "execution_count": null,
   "metadata": {},
   "outputs": [],
   "source": [
    "def plot_prop_der(der_arr1, der_arr2, proportion, num_sites):\n",
    "    \"\"\"\n",
    "    Plot the anchor statistic with thinned data, showing both demographic models in the same figure.\n",
    "    \"\"\"\n",
    "    inds = [str(x) for x in list(range(2, 8))][::-1]  # Sample indices\n",
    "    y1 = der_arr1[:, 0]  # Proportions from model A\n",
    "    y2 = der_arr2[:, 0]  # Proportions from model B\n",
    "    sterr1 = 1.96 * (der_arr1[:, 1])  # Standard errors for model A\n",
    "    sterr2 = 1.96 * (der_arr2[:, 1])  # Standard errors for model B\n",
    "    fig, ax = plt.subplots(figsize=(6, 10))\n",
    "    ax.errorbar(y1, inds, xerr=sterr1, marker='o', label=\"Private drift\")\n",
    "    ax.errorbar(y2, inds, xerr=sterr2, marker='o', label=\"Admixture\")\n",
    "    ax.axhline(y=3.5, color='r', linestyle='--', label='Pulse of 25% admixture')\n",
    "    ax.axhline(y=1.5, color='r', linestyle='--')\n",
    "    ax.set_xlabel('Proportion derived', labelpad=20)\n",
    "    ax.set_ylabel('Sample', labelpad=20)\n",
    "    ax.set_xlim(0.30, 0.42)\n",
    "    ax.legend(loc=2, title=\"Simulated model\")\n",
    "    ax.set_title(f\"Subset of anchor heterozygote sites: {int(proportion * 100)}% ({num_sites})\", fontsize=18, pad=10)\n",
    "    sample_times = [str(x) for x in list(range(0,720,120))][::-1]\n",
    "    ax2 = ax.twinx()\n",
    "    ax2.plot(y1, sample_times)\n",
    "    ax2.set_ylabel('time (generations)', labelpad=20)\n",
    "    for item in ([ax.title, ax.xaxis.label, ax.yaxis.label]):\n",
    "        item.set_fontsize(16)\n",
    "    for item in (ax.get_xticklabels() + ax.get_yticklabels()):\n",
    "        item.set_fontsize(12)        \n",
    "    fig.tight_layout()\n",
    "    filename = f'Anchor_S1_bothModels_{int(proportion * 100)}pct.png'\n",
    "    if isSaveFigures:\n",
    "        plt.savefig(filename, dpi=300)     \n",
    "    plt.show()"
   ]
  },
  {
   "cell_type": "code",
   "execution_count": null,
   "metadata": {},
   "outputs": [],
   "source": [
    "def perform_analysis_and_plot(modelA_res, modelB_res, proportions):\n",
    "    \"\"\" Perform analysis and plot for different data proportions for both demographic models. \"\"\"\n",
    "    for proportion in proportions:\n",
    "        thinned_data1 = thin_data(modelA_res, proportion)\n",
    "        thinned_data2 = thin_data(modelB_res, proportion)\n",
    "        window_size = int(min(thinned_data1.shape[0], thinned_data2.shape[0]) / 5000)\n",
    "        propder_anchor1 = np.array([(get_prop_der(x, window_size)) for x in thinned_data1.transpose(1, 0, 2)])\n",
    "        propder_anchor2 = np.array([(get_prop_der(x, window_size)) for x in thinned_data2.transpose(1, 0, 2)])\n",
    "        num_sites = int(np.mean([thinned_data1.shape[0], thinned_data2.shape[0]]))  # Mean number of sites after thinning\n",
    "        \n",
    "        plot_prop_der(propder_anchor1[0:6, :], propder_anchor2[0:6, :], proportion, num_sites)\n"
   ]
  },
  {
   "cell_type": "code",
   "execution_count": null,
   "metadata": {},
   "outputs": [],
   "source": [
    "proportions = [0.75, 0.5, 0.25, 0.1, 0.05, 0.01]  # Different proportions to test\n",
    "perform_analysis_and_plot(anchor1_mat1, anchor1_mat2, proportions)"
   ]
  }
 ],
 "metadata": {
  "kernelspec": {
   "display_name": "Python 3 (ipykernel)",
   "language": "python",
   "name": "python3"
  },
  "language_info": {
   "codemirror_mode": {
    "name": "ipython",
    "version": 3
   },
   "file_extension": ".py",
   "mimetype": "text/x-python",
   "name": "python",
   "nbconvert_exporter": "python",
   "pygments_lexer": "ipython3",
   "version": "3.12.1"
  }
 },
 "nbformat": 4,
 "nbformat_minor": 4
}
